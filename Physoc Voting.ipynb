{
 "cells": [
  {
   "cell_type": "markdown",
   "id": "noticed-announcement",
   "metadata": {},
   "source": [
    "# This workbook was made for use in UCC Student Elections"
   ]
  },
  {
   "cell_type": "code",
   "execution_count": 1,
   "id": "casual-belgium",
   "metadata": {},
   "outputs": [],
   "source": [
    "# Importing necessary modules\n",
    "import pandas as pd\n",
    "import tabulate as tb\n",
    "import math"
   ]
  },
  {
   "cell_type": "markdown",
   "id": "pleasant-father",
   "metadata": {},
   "source": [
    "### Importing the ballots and cleaning up the file"
   ]
  },
  {
   "cell_type": "code",
   "execution_count": 3,
   "id": "mediterranean-deficit",
   "metadata": {},
   "outputs": [],
   "source": [
    "# Imports a data file named \"Ballots.csv\"\n",
    "ballots = pd.read_csv(\"Ballots.csv\").fillna(0)\n",
    "\n",
    "# Removing timestamp\n",
    "ballots.drop('Timestamp', inplace=True, axis=1)\n",
    "\n",
    "# Converting to integer values\n",
    "ballots = ballots.astype('Int64')"
   ]
  },
  {
   "cell_type": "markdown",
   "id": "absent-condition",
   "metadata": {},
   "source": [
    "### Seperating the combined ballots into ballots for each position"
   ]
  },
  {
   "cell_type": "code",
   "execution_count": 4,
   "id": "injured-earth",
   "metadata": {},
   "outputs": [
    {
     "name": "stdin",
     "output_type": "stream",
     "text": [
      "What is the candidate name for Chairperson [Candidate 1]:  Candidate 1\n",
      "What is the candidate name for Chairperson [Candidate 2]:  Candidate 2\n",
      "What is the candidate name for Chairperson [Candidate 3]:  Candidate 3\n",
      "What is the candidate name for Chairperson [RON]:  Candidate 4\n"
     ]
    }
   ],
   "source": [
    "candidates = ballots.columns.values.tolist()\n",
    "for i in candidates:\n",
    "    name = str(input(\"What is the candidate name for \" + str(i) + \": \"))\n",
    "    ballots = ballots.rename({str(i) : name}, axis=1)"
   ]
  },
  {
   "cell_type": "markdown",
   "id": "higher-mumbai",
   "metadata": {},
   "source": [
    "#### Initialising total number of preferences"
   ]
  },
  {
   "cell_type": "code",
   "execution_count": 5,
   "id": "patent-process",
   "metadata": {},
   "outputs": [],
   "source": [
    "num_preferences = len(ballots.columns.values.tolist())"
   ]
  },
  {
   "cell_type": "markdown",
   "id": "civil-camping",
   "metadata": {},
   "source": [
    "### Defining the methods for counting the votes"
   ]
  },
  {
   "cell_type": "markdown",
   "id": "noble-asset",
   "metadata": {},
   "source": [
    "#### Counts the number of preferences each candidate received"
   ]
  },
  {
   "cell_type": "code",
   "execution_count": 79,
   "id": "athletic-folks",
   "metadata": {},
   "outputs": [],
   "source": [
    "def tally(ballots, candidate):\n",
    "    \n",
    "    # Initital preferences count\n",
    "    pref = [0 for i in range(len(ballots.columns.values.tolist()))]\n",
    "    \n",
    "    # j runs from 1 to 10. Adds up the preferences\n",
    "    for j in ballots[candidate]:\n",
    "        pref[j-1] += 1\n",
    "    \n",
    "    return pref"
   ]
  },
  {
   "cell_type": "markdown",
   "id": "funny-husband",
   "metadata": {},
   "source": [
    "#### Gets the candidate(s) with the lowest value pref"
   ]
  },
  {
   "cell_type": "code",
   "execution_count": 7,
   "id": "provincial-finnish",
   "metadata": {},
   "outputs": [],
   "source": [
    "def get_indexes_min_value(list):\n",
    "    \n",
    "    # Removing 0's from the list\n",
    "    for i in list:\n",
    "        if i == 0:\n",
    "            list.pop(i)\n",
    "    # What is the minimum value\n",
    "    min_value = min(list)\n",
    "    \n",
    "    # If there are more than one minimum value (tied last) then return both indices\n",
    "    if list.count(min_value) > 1:\n",
    "        return [i for i, x in enumerate(list) if x == min(list)]\n",
    "    \n",
    "    # Else return the index of the minimum value\n",
    "    else:\n",
    "        return list.index(min(list))"
   ]
  },
  {
   "cell_type": "markdown",
   "id": "processed-market",
   "metadata": {},
   "source": [
    "#### Gets the candidate(s) with the highest value pref"
   ]
  },
  {
   "cell_type": "code",
   "execution_count": 8,
   "id": "immune-contrary",
   "metadata": {},
   "outputs": [],
   "source": [
    "def get_indexes_max_value(list):\n",
    "    \n",
    "    # Wat is the maximum value\n",
    "    max_value = max(list)\n",
    "    \n",
    "    # If there are more than one maximum value then return both indices\n",
    "    if list.count(max_value) > 1:\n",
    "        return [i for i, x in enumerate(list) if x == max(list)]\n",
    "    \n",
    "    # Else return the index of the maximum value\n",
    "    else:\n",
    "        return list.index(max(list))"
   ]
  },
  {
   "cell_type": "markdown",
   "id": "weekly-classic",
   "metadata": {},
   "source": [
    "#### Calculates the valid poll and droop quota"
   ]
  },
  {
   "cell_type": "code",
   "execution_count": 9,
   "id": "seventh-enzyme",
   "metadata": {},
   "outputs": [],
   "source": [
    "def quota(ballots):\n",
    "    \n",
    "    candidates = ballots.columns.values.tolist()\n",
    "    votes_with_no_first_preference = ballots.copy()\n",
    "    \n",
    "    # Calculating how many votes have no preferences\n",
    "    for i in candidates:\n",
    "        votes_with_no_first_preference = votes_with_no_first_preference[votes_with_no_first_preference[i] != 1]\n",
    "    total_invalid_votes = len(votes_with_no_first_preference)\n",
    "        \n",
    "    # Calculate the valid poll and droop quota\n",
    "    valid_poll = len(ballots) - total_invalid_votes\n",
    "    droop_quota = math.floor(valid_poll / 2) + 1\n",
    "    \n",
    "    return droop_quota, valid_poll"
   ]
  },
  {
   "cell_type": "markdown",
   "id": "historical-hindu",
   "metadata": {},
   "source": [
    "#### Prints the tallies as they stand"
   ]
  },
  {
   "cell_type": "code",
   "execution_count": 81,
   "id": "meaning-employment",
   "metadata": {},
   "outputs": [],
   "source": [
    "def print_results(ballots):\n",
    "    \n",
    "    # Gets the list of Candidates\n",
    "    candidates = ballots.columns.values.tolist()\n",
    "    # For the suffixes of the preferences\n",
    "    suf = lambda n: \"%d%s\"%(n,{1:\"st\",2:\"nd\",3:\"rd\"}.get(n if n<20 else n%10,\"th\"))\n",
    "    # Getting the suffixes for all preferences\n",
    "    suf_total = [suf(n) for n in range(1, len(candidates) + 1)]\n",
    "    # List of all preferences\n",
    "    temp = [i + \" Preference\" for i in suf_total]\n",
    "    # Initialises the output table with the headings\n",
    "    output = [[\"Candidate\"] + temp]\n",
    "    \n",
    "    #Calculates the total pref for each candidate and appends it to output table\n",
    "    for i in candidates:\n",
    "        pref = tally(ballots, i)\n",
    "        output.append([i] + [str(elem) for elem in pref])\n",
    "        \n",
    "    print(tb.tabulate(output, headers=\"firstrow\") + \"\\n\")"
   ]
  },
  {
   "cell_type": "markdown",
   "id": "social-fight",
   "metadata": {},
   "source": [
    "#### Checks if a candidate has reached a quota and eliminates the candidate with the lowest 1st preference if not"
   ]
  },
  {
   "cell_type": "code",
   "execution_count": 59,
   "id": "hourly-ottawa",
   "metadata": {},
   "outputs": [],
   "source": [
    "def eliminate(ballots):\n",
    "    \n",
    "    candidates = ballots.columns.values.tolist()\n",
    "    count = []\n",
    "    \n",
    "    for i in candidates:\n",
    "        pref = tally(ballots, i)\n",
    "        count.append(result)\n",
    "        \n",
    "    # Checks the first preferences\n",
    "    all_pref_1 = [row[1] for row in count]\n",
    "    \n",
    "    # Check if any candidate has reached the quota\n",
    "    highest = max(all_pref_1)\n",
    "    droop_quota, valid_poll = quota(ballots)\n",
    "    \n",
    "    if highest >= droop_quota:\n",
    "        highest_candidate = get_indexes_max_value(all_pref_1)\n",
    "        print(candidates[highest_candidate] + \" has reached the quota and is deemed elected \\n\")\n",
    "        return True\n",
    "    \n",
    "    # Get the lowest candidate(s) if no winner\n",
    "    eliminated = get_indexes_min_value(all_pref_1)\n",
    "    \n",
    "    # If only one candidate has the lowest 1st preferences then eliminate them and redistribute preferences\n",
    "    if type(eliminated) == int:\n",
    "        # Prints elimination\n",
    "        print(candidates[eliminated] + \" is eliminated as they have the lowest 1st preferences of remaining candidates \\n\")\n",
    "        # Redistributes preferences\n",
    "        eliminated_ballots = redistribute_preferences(ballots, candidates[eliminated])\n",
    "        # Removes candidate\n",
    "        eliminated_ballots.pop(candidates[eliminated])\n",
    "        \n",
    "    # If multiple candidates have tied lowest 1st preferences then tally their second and eliminate\n",
    "    elif len(eliminated) > 1:\n",
    "        all_pref_2 = [row[2] for row in count]\n",
    "        eliminated_2 = get_indexes_min_value(all_pref_2)\n",
    "        \n",
    "        if type(eliminated_2) == int:\n",
    "            # Prints elimination\n",
    "            print(candidates[eliminated[0]] + \" & \" + candidates[eliminated[1]] + \" had a tied 1st preference so \" + candidates[eliminated_2] + \" was eliminated on 2nd preferences \\n\")\n",
    "            # Redistributes preferences\n",
    "            eliminated_ballots = redistribute_preferences(ballots, candidates[eliminated_2])\n",
    "            # Removes candidate\n",
    "            eliminated_ballots.pop(candidates[eliminated_2])\n",
    "        \n",
    "        # If still tied then print below as coin flip will have to be done\n",
    "        else:\n",
    "            print(\"Multiple candidates have tied preferences \\n\")\n",
    "            return False\n",
    "    \n",
    "    return eliminated_ballots"
   ]
  },
  {
   "cell_type": "markdown",
   "id": "christian-council",
   "metadata": {},
   "source": [
    "#### Redistributes the preferences of the eliminated candidate"
   ]
  },
  {
   "cell_type": "code",
   "execution_count": 12,
   "id": "massive-juice",
   "metadata": {},
   "outputs": [],
   "source": [
    "def redistribute_preferences(ballots, candidate):\n",
    "    \n",
    "    updated_ballots = ballots.copy()\n",
    "    \n",
    "    for p in range(1, len(updated_ballots.columns.values.tolist()) + 1):\n",
    "        # Getting the index of each vote that has the eliminated candidate as 1st preference\n",
    "        votes_to_distribute_index = updated_ballots.loc[updated_ballots[candidate] == p].index.tolist()\n",
    "        \n",
    "        # Dataframe with all votes for that candidate\n",
    "        votes_to_distribute = updated_ballots.loc[votes_to_distribute_index, :]\n",
    "        \n",
    "        # Replacing 2nd Pref with 1st Pref etc.\n",
    "        # For every vote\n",
    "        for i in range(len(votes_to_distribute)):\n",
    "            # For every preference in that vote\n",
    "            for j in range(len(updated_ballots.columns.values.tolist())):\n",
    "                # For every value that preference can be\n",
    "                for k in range(p, num_preferences + 1):\n",
    "                    # Add one to every preference\n",
    "                    if votes_to_distribute.iloc[i, j] == k:\n",
    "                        votes_to_distribute.iloc[i, j] = k-1\n",
    "\n",
    "        updated_ballots.update(votes_to_distribute)\n",
    "        \n",
    "    return updated_ballots"
   ]
  },
  {
   "cell_type": "markdown",
   "id": "liquid-devon",
   "metadata": {},
   "source": [
    "### Main function"
   ]
  },
  {
   "cell_type": "code",
   "execution_count": 86,
   "id": "infrared-beverage",
   "metadata": {},
   "outputs": [],
   "source": [
    "def main(ballots):\n",
    "    \n",
    "    active_ballots = ballots\n",
    "    \n",
    "    # Print Quota\n",
    "    droop_quota, valid_poll = quota(active_ballots)\n",
    "    print(\"Total valid poll is = \" + str(valid_poll))\n",
    "    print(\"Quota is = \" + str(droop_quota) + \"\\n\")\n",
    "    \n",
    "    for i in range(0, len(ballots.columns) - 1):\n",
    "        \n",
    "        # Print Count\n",
    "        print(\"Count \" + str(i+1) + \"\\n\")\n",
    "        \n",
    "        # Print Results\n",
    "        print_results(active_ballots)\n",
    "        \n",
    "        #Check for winner and eliminate if none\n",
    "        active_ballots = eliminate(active_ballots)\n",
    "        \n",
    "        # True is if winner is found. False is if a winner couldn't be determined\n",
    "        if type(active_ballots) == bool:\n",
    "            if active_ballots == True:\n",
    "                print(\"Winner has been found\")\n",
    "                return\n",
    "            if active_ballots == False:\n",
    "                print(\"No winner could be determined\")\n",
    "                return"
   ]
  },
  {
   "cell_type": "markdown",
   "id": "collaborative-christianity",
   "metadata": {},
   "source": [
    "# The Count"
   ]
  },
  {
   "cell_type": "code",
   "execution_count": 87,
   "id": "mexican-pharmaceutical",
   "metadata": {},
   "outputs": [
    {
     "name": "stdout",
     "output_type": "stream",
     "text": [
      "Total valid poll is = 48\n",
      "Quota is = 25\n",
      "\n",
      "Count 1\n",
      "\n",
      "Candidate      1st Preference    2nd Preference    3rd Preference    4th Preference\n",
      "-----------  ----------------  ----------------  ----------------  ----------------\n",
      "Candidate 1                19                11                10                 8\n",
      "Candidate 2                 7                20                16                 5\n",
      "Candidate 3                 9                15                17                 7\n",
      "Candidate 4                13                 2                 5                28\n",
      "\n",
      "Candidate 2 is eliminated as they have the lowest 1st preferences of remaining candidates \n",
      "\n",
      "Count 2\n",
      "\n",
      "Candidate      1st Preference    2nd Preference    3rd Preference\n",
      "-----------  ----------------  ----------------  ----------------\n",
      "Candidate 1                24                14                10\n",
      "Candidate 3                10                31                 7\n",
      "Candidate 4                14                 3                31\n",
      "\n",
      "Candidate 3 is eliminated as they have the lowest 1st preferences of remaining candidates \n",
      "\n",
      "Count 3\n",
      "\n",
      "Candidate      1st Preference    2nd Preference\n",
      "-----------  ----------------  ----------------\n",
      "Candidate 1                33                15\n",
      "Candidate 4                15                33\n",
      "\n",
      "Candidate 1 has reached the quota and is deemed elected \n",
      "\n",
      "Winner has been found\n"
     ]
    }
   ],
   "source": [
    "main(ballots)"
   ]
  }
 ],
 "metadata": {
  "kernelspec": {
   "display_name": "Python 3",
   "language": "python",
   "name": "python3"
  },
  "language_info": {
   "codemirror_mode": {
    "name": "ipython",
    "version": 3
   },
   "file_extension": ".py",
   "mimetype": "text/x-python",
   "name": "python",
   "nbconvert_exporter": "python",
   "pygments_lexer": "ipython3",
   "version": "3.8.8"
  }
 },
 "nbformat": 4,
 "nbformat_minor": 5
}
